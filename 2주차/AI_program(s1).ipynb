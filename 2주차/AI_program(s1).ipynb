{
 "cells": [
  {
   "cell_type": "markdown",
   "id": "054ddbde-1bb2-4e8d-90b9-0f758e57ffc1",
   "metadata": {},
   "source": [
    "# 마크다운이란?\n",
    "- 마크다운이란 일반 텍스트 문서의 양식을 편집하는 문법으로, HTML 형태로 변환 가능"
   ]
  },
  {
   "cell_type": "markdown",
   "id": "c26d6a66-a2f2-4682-b0d0-2d54c3b44f4d",
   "metadata": {},
   "source": [
    "## 마크다운 사용하기\n",
    "\n",
    "마크다운 셀로 변경하는 방법은 다음과 같음\n",
    "1. ESC + M\n",
    "\n",
    "※ 마크다운 셀은 왼쪽에 [] 표시가 없음"
   ]
  },
  {
   "cell_type": "markdown",
   "id": "c1b2d7ae-045d-4b92-917b-5f57dbb808ad",
   "metadata": {},
   "source": [
    "### 1. 제목 Header\n",
    "- \"#\"을 활용하여 제목을 작성할 수 있음\n",
    "- \"#\"의 개수로 제목의 크기를 결정할 수 있음 (최대 6개 까지)"
   ]
  },
  {
   "cell_type": "raw",
   "id": "2245e497-404a-48b9-84f2-f931f9db9126",
   "metadata": {},
   "source": [
    "# Header 1 (큰 제목)\n",
    "## Header 2 (제목)\n",
    "### Header 3 (중간 제목)\n",
    "#### Header 4 (작은 제목)\n",
    "##### Header 5 (더 작은 제목)\n",
    "###### Header 6 (더더 작은 제목)"
   ]
  },
  {
   "cell_type": "markdown",
   "id": "fb97d06f-d3f8-44eb-9991-c8d91f1cd64a",
   "metadata": {},
   "source": [
    "# Header 1 (큰 제목)\n",
    "## Header 2 (제목)\n",
    "### Header 3 (중간 제목)\n",
    "#### Header 4 (작은 제목)\n",
    "##### Header 5 (더 작은 제목)\n",
    "###### Header 6 (더더 작은 제목)"
   ]
  },
  {
   "cell_type": "markdown",
   "id": "d6a15e66-3f13-4884-8337-9da9f51eb7f2",
   "metadata": {},
   "source": [
    "- HTML 문법으로도 제목 표현 가능"
   ]
  },
  {
   "cell_type": "raw",
   "id": "b5622063-82fe-456f-b767-c84d6d797c0b",
   "metadata": {},
   "source": [
    "<h1>Header 1</h1>\n",
    "<h2>Header 2</h2>\n",
    "<h3>Header 3</h3>\n",
    "<h4>Header 4</h4>\n",
    "<h5>Header 5</h5>\n",
    "<h6>Header 6</h6>"
   ]
  },
  {
   "cell_type": "markdown",
   "id": "c9e527d7-45dd-430c-8482-976148ddb276",
   "metadata": {},
   "source": [
    "<h1>Header 1</h1>\n",
    "<h2>Header 2</h2>\n",
    "<h3>Header 3</h3>\n",
    "<h4>Header 4</h4>\n",
    "<h5>Header 5</h5>\n",
    "<h6>Header 6</h6>"
   ]
  },
  {
   "cell_type": "markdown",
   "id": "1c90cf32-623b-4a9e-896f-35dbbb916165",
   "metadata": {},
   "source": [
    "### 2. Quote (인용)\n",
    "- 인용문은 \">\" 를 활용하여 작성할 수 있음"
   ]
  },
  {
   "cell_type": "raw",
   "id": "f65fe4c0-06af-43ea-a6fc-3640c2f3b5cc",
   "metadata": {},
   "source": [
    "> 인용문은 \">\"를 활용하여 작성할 수 있습니다."
   ]
  },
  {
   "cell_type": "markdown",
   "id": "1301ef6c-877f-48f9-b8f5-0bf6cdea1ab5",
   "metadata": {},
   "source": [
    "> 인용문은 \">\"를 활용하여 작성할 수 있습니다."
   ]
  },
  {
   "cell_type": "raw",
   "id": "7b3d55d7-96b3-419b-a8ea-62f6c227e1d9",
   "metadata": {},
   "source": [
    "> 인용문 안에\n",
    ">> 인용문을 사용할 수도 있습니다."
   ]
  },
  {
   "cell_type": "markdown",
   "id": "b3a0ac1c-6af3-4109-82c7-b8ab509c1cbb",
   "metadata": {},
   "source": [
    "> 인용문은 > 인용문 안에\n",
    ">> 인용문을 사용할 수도 있습니다.\">\"를 활용하여 작성할 수 있습니다."
   ]
  },
  {
   "cell_type": "markdown",
   "id": "9d9fe11e-62ff-431d-9b42-7484bc84aa11",
   "metadata": {},
   "source": [
    "### 3. List (목록)\n",
    "- 순서가 있는 목록은 숫자를 사용하여 작성할 수 있음"
   ]
  },
  {
   "cell_type": "raw",
   "id": "0d6ffadc-15b8-4202-a75a-0672caaa035f",
   "metadata": {},
   "source": [
    "1. 첫 번째\n",
    "2. 두 번째\n",
    "3. 세 번째"
   ]
  },
  {
   "cell_type": "markdown",
   "id": "e914a61f-1edc-4561-a5e9-2cf5878811a0",
   "metadata": {},
   "source": [
    "1. 첫 번째\n",
    "2. 두 번째\n",
    "3. 세 번째"
   ]
  },
  {
   "cell_type": "markdown",
   "id": "0f07b2f7-11fc-423e-ae29-faf6f0cd5a63",
   "metadata": {},
   "source": [
    "- 순서가 없는 목록은 *, +, -를 활용하여 표현할 수 있음"
   ]
  },
  {
   "cell_type": "raw",
   "id": "0833f08c-af36-4f91-893b-37b547ada970",
   "metadata": {},
   "source": [
    "* 별표(*)\n",
    "+ 플러스(+)\n",
    "- 마이너스(-)"
   ]
  },
  {
   "cell_type": "markdown",
   "id": "addeaec2-e366-4eb7-8b76-49b30841bbce",
   "metadata": {},
   "source": [
    "* 별표(*)\n",
    "+ 플러스(+)\n",
    "- 마이너스(-)"
   ]
  },
  {
   "cell_type": "markdown",
   "id": "a1503c1f-cdd4-4e1a-80e2-38bd5cefaef3",
   "metadata": {},
   "source": [
    "- 들여쓰기(tab)를 통해 목록의 level을 표현할 수 있음"
   ]
  },
  {
   "cell_type": "raw",
   "id": "d8c2a2f1-05f9-45b3-a857-523848f6d7e0",
   "metadata": {},
   "source": [
    "- Level 1\n",
    "    - Level 2\n",
    "        - Level 3    "
   ]
  },
  {
   "cell_type": "markdown",
   "id": "2ece8a28-6dc4-4a48-962f-1fda4a8af012",
   "metadata": {},
   "source": [
    "- Level 1\n",
    "    - Level 2\n",
    "        - Level 3    "
   ]
  },
  {
   "cell_type": "markdown",
   "id": "0c27ec24-a360-47c7-8bb4-6fdc6d17c66e",
   "metadata": {},
   "source": [
    "### 4. Line (수평선)\n",
    "- \"***\", \"---\", \"\\<hr>\"을 활용하여 회색 선으로 수평선을 그을 수 있음"
   ]
  },
  {
   "cell_type": "raw",
   "id": "72a57b9d-1644-4cfb-81c3-52f76ede7c77",
   "metadata": {},
   "source": [
    "***\n",
    "---\n",
    "<hr>"
   ]
  },
  {
   "cell_type": "markdown",
   "id": "5cc9ecc7-9708-41ad-9e85-a037893d41b0",
   "metadata": {},
   "source": [
    "***\n",
    "---\n",
    "<hr>"
   ]
  },
  {
   "cell_type": "markdown",
   "id": "aa717cca-dbf6-46a2-8e63-61173695a555",
   "metadata": {},
   "source": [
    "### 5. 줄 바꿈\n",
    "- 스페이스를 두번 넣거나 \\<br>을 넣으면 텍스트 줄바꿈을 표현할 수 있음"
   ]
  },
  {
   "cell_type": "raw",
   "id": "69e0a8d8-0e9a-47cc-9f50-b84c2d84eca9",
   "metadata": {},
   "source": [
    "첫 번째 줄  \n",
    "두 번째 줄<br>\n",
    "세 번째 줄"
   ]
  },
  {
   "cell_type": "markdown",
   "id": "0127de85-2a9b-41e3-834e-e98d7713b729",
   "metadata": {},
   "source": [
    "첫 번째 줄  \n",
    "두 번째 줄<br>\n",
    "세 번째 줄"
   ]
  },
  {
   "cell_type": "markdown",
   "id": "70281576-4654-4196-916f-d5ef5af4567f",
   "metadata": {},
   "source": [
    "### 6. Font (폰트)\n",
    "- 글자의 색, 크기, 굵기, 기울기, 글꼴을 바꿀 수 있음\n",
    "- \\<span style=\"\">쓰고싶은 내용\\</span>"
   ]
  },
  {
   "cell_type": "raw",
   "id": "af833bbd-a13a-47d0-bd80-d9c40ff0de9e",
   "metadata": {},
   "source": [
    "<span style=\"color:red\"> 쓰고싶은 내용 </span>  \n",
    "<span style=\"font-size:10px\"> 쓰고싶은 내용 </span>  \n",
    "<span style=\"font-weight:bold\"> 쓰고싶은 내용 </span>  \n",
    "<span style=\"font-style:italic\"> 쓰고싶은 내용 </span>  \n",
    "<span style=\"font-family: arial\"> 쓰고싶은 내용 </span>  \n",
    "<span style=\"color:red; font-size:10px; font-weight:bold; font-style:italic; font-family: arial; font-family: arial\"> 모두적용 </span>"
   ]
  },
  {
   "cell_type": "markdown",
   "id": "b9b91aa3-d5fe-4474-a04c-20affb2af0cf",
   "metadata": {},
   "source": [
    "<span style=\"color:red\"> 쓰고싶은 내용 </span>  \n",
    "<span style=\"font-size:10px\"> 쓰고싶은 내용 </span>  \n",
    "<span style=\"font-weight:bold\"> 쓰고싶은 내용 </span>  \n",
    "<span style=\"font-style:italic\"> 쓰고싶은 내용 </span>  \n",
    "<span style=\"font-family: arial\"> 쓰고싶은 내용 </span>  \n",
    "<span style=\"color:red; font-size:10px; font-weight:bold; font-style:italic; font-family: arial; font-family: arial\"> 모두적용 </span>"
   ]
  },
  {
   "cell_type": "markdown",
   "id": "3b93be22-4cb1-4402-843d-43dc8d255253",
   "metadata": {},
   "source": [
    "### 7. Link (링크)\n",
    "   - 주소로 표현: \"http://naver.com\"\n",
    "   - 지정글자 링크: \"\\[네이버](http://naver.com)\""
   ]
  },
  {
   "cell_type": "raw",
   "id": "d5defb77-e95c-44ba-bea0-8308b6f0dd99",
   "metadata": {},
   "source": [
    "http://naver.com\n",
    "[네이버](http://naver.com)"
   ]
  },
  {
   "cell_type": "markdown",
   "id": "afceb086-8c01-48b2-8f0c-f9b913421a8b",
   "metadata": {},
   "source": [
    "http://naver.com\n",
    "[네이버](http://naver.com)"
   ]
  },
  {
   "cell_type": "markdown",
   "id": "58d0bf0a-e71c-46d0-90d1-cc941c24452a",
   "metadata": {},
   "source": [
    "### 8. Image (이미지)\n",
    "- \\![이미지 이름](이미지 주소)"
   ]
  },
  {
   "cell_type": "raw",
   "id": "30a0ea5f-0988-4c68-beba-20071e5a10ee",
   "metadata": {},
   "source": [
    "![세한대로고](https://www.sehan.ac.kr/wp-content/uploads/2022/02/main_logo.png)"
   ]
  },
  {
   "cell_type": "markdown",
   "id": "1b208c6f-27f3-41e6-9138-ea29501bfc53",
   "metadata": {},
   "source": [
    "![세한대로고](https://www.sehan.ac.kr/wp-content/uploads/2022/02/main_logo.png)"
   ]
  },
  {
   "cell_type": "markdown",
   "id": "15ccfe7a-c50f-4405-963b-566886fe21de",
   "metadata": {},
   "source": [
    "### 9. Table (테이블)\n",
    "- \"|\"와 \"--\"를 사용하여 테이블 구조 설정"
   ]
  },
  {
   "cell_type": "raw",
   "id": "e59a298c-e82e-4ad3-bff5-1eacfc9ba4c7",
   "metadata": {},
   "source": [
    "|제목|내용|설명|\r\n",
    "|------|---|---|\r\n",
    "|테스트1|테스트2|테스트3|\r\n",
    "|테스트1|테스트2|테스트3|\r\n",
    "|테스트1|테스트2|테스트3|"
   ]
  },
  {
   "cell_type": "markdown",
   "id": "bf5a0f5b-f1ef-4f9b-87ff-5c45f305de7b",
   "metadata": {},
   "source": [
    "|제목|내용|설명|\r\n",
    "|------|---|---|\r\n",
    "|테스트1|테스트2|테스트3|\r\n",
    "|테스트1|테스트2|테스트3|\r\n",
    "|테스트1|테스트2|테스트3|"
   ]
  },
  {
   "cell_type": "markdown",
   "id": "c0a52c07-730f-4d29-8b7a-54eb4014aee7",
   "metadata": {},
   "source": [
    "### 10. code (코드)\n",
    "- python 으로 작성된 코드를 하이라이트를 포함해서 이쁘게 표시\n",
    "- \\```python  \n",
    "  코드내용  \n",
    "  \\```"
   ]
  },
  {
   "cell_type": "raw",
   "id": "de52485c-d44f-4c5c-bf69-25e19baf4593",
   "metadata": {},
   "source": [
    "```python\n",
    "a=10\n",
    "print(a)\n",
    "```"
   ]
  },
  {
   "cell_type": "markdown",
   "id": "982d562d-f55a-47b4-b9cc-5ce8d79a28c9",
   "metadata": {},
   "source": [
    "```python\n",
    "a=10\n",
    "print(a)\n",
    "```"
   ]
  },
  {
   "cell_type": "markdown",
   "id": "f1f55904-2bed-4d1a-a251-91d0b62bc84a",
   "metadata": {},
   "source": [
    "### 11. Tex (수식)\n",
    "- Tex 문법을 활용하여 수식 입력 가능\n",
    "- \\\\$ 수식 \\\\$: 왼쪽 정렬 수식\n",
    "- \\\\$\\\\$ 수식 \\\\$\\\\$: 가운데 정렬 수식"
   ]
  },
  {
   "cell_type": "raw",
   "id": "5b2c1d12-af40-4043-a8d0-7ed80e8baf1f",
   "metadata": {},
   "source": [
    "$ y = 3x $"
   ]
  },
  {
   "cell_type": "markdown",
   "id": "3508cbf0-1a2b-4997-837a-97ccbb39ee09",
   "metadata": {},
   "source": [
    "$ y = 3x $"
   ]
  },
  {
   "cell_type": "raw",
   "id": "616a5280-49f1-4020-9980-ef4288100128",
   "metadata": {},
   "source": [
    "$$ y = \\frac{1}{n} \\sum_{i=0}^{N} a_i $$"
   ]
  },
  {
   "cell_type": "markdown",
   "id": "52e138d9-09d7-42e6-b62c-73121ecda142",
   "metadata": {},
   "source": [
    "$$ y = \\frac{1}{n} \\sum_{i=0}^{N} a_i $$"
   ]
  }
 ],
 "metadata": {
  "kernelspec": {
   "display_name": "Python 3 (ipykernel)",
   "language": "python",
   "name": "python3"
  },
  "language_info": {
   "codemirror_mode": {
    "name": "ipython",
    "version": 3
   },
   "file_extension": ".py",
   "mimetype": "text/x-python",
   "name": "python",
   "nbconvert_exporter": "python",
   "pygments_lexer": "ipython3",
   "version": "3.11.7"
  }
 },
 "nbformat": 4,
 "nbformat_minor": 5
}
